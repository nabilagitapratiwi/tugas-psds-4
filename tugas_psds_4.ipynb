{
  "nbformat": 4,
  "nbformat_minor": 0,
  "metadata": {
    "colab": {
      "provenance": []
    },
    "kernelspec": {
      "name": "python3",
      "display_name": "Python 3"
    },
    "language_info": {
      "name": "python"
    }
  },
  "cells": [
    {
      "cell_type": "markdown",
      "source": [
        "Perulangan for dan while"
      ],
      "metadata": {
        "id": "IRpjTwDFeMqS"
      }
    },
    {
      "cell_type": "code",
      "source": [
        "# Program untuk menghitung jumlah semua angka dalam list\n",
        "L1 = [2, 4, 5, 7, 9]\n",
        "jumlah = 0\n",
        "\n",
        "# iterasi didalam list\n",
        "for i in L1:\n",
        "  jumlah = jumlah + i\n",
        "\n",
        "print(jumlah)"
      ],
      "metadata": {
        "colab": {
          "base_uri": "https://localhost:8080/"
        },
        "id": "2Mo_KXG8eI39",
        "outputId": "8e4101fa-c750-43af-9006-5b0ea251f301"
      },
      "execution_count": 1,
      "outputs": [
        {
          "output_type": "stream",
          "name": "stdout",
          "text": [
            "27\n"
          ]
        }
      ]
    },
    {
      "cell_type": "markdown",
      "source": [
        "The range() function"
      ],
      "metadata": {
        "id": "aIjQWN5FeHw2"
      }
    },
    {
      "cell_type": "code",
      "execution_count": 4,
      "metadata": {
        "colab": {
          "base_uri": "https://localhost:8080/"
        },
        "id": "ypwE3_xQd8v2",
        "outputId": "d1fa8164-0a4f-4608-b429-7d4d8630fccf"
      },
      "outputs": [
        {
          "output_type": "stream",
          "name": "stdout",
          "text": [
            "teh\n",
            "boba\n",
            "kopi\n",
            "susu\n"
          ]
        }
      ],
      "source": [
        "# Program untuk melakukan iterasi didalam list melalui indeks\n",
        "minuman = [\"teh\", \"boba\", \"kopi\", \"susu\"]\n",
        "p = len(minuman)\n",
        "\n",
        "# iterasi didalam list melalui indeks\n",
        "for i in range(p):\n",
        "  print(minuman[i])"
      ]
    },
    {
      "cell_type": "markdown",
      "source": [
        "for loop with else"
      ],
      "metadata": {
        "id": "rOTGJpWXfCeM"
      }
    },
    {
      "cell_type": "code",
      "source": [
        "# Contoh for Loop manggunakan else\n",
        "for i in range(p):\n",
        "  print(minuman[i])\n",
        "else:\n",
        "  print(\"Elemen sudah habis\")"
      ],
      "metadata": {
        "colab": {
          "base_uri": "https://localhost:8080/"
        },
        "id": "NH5onRtMfGcY",
        "outputId": "1a3e99a9-8bc9-49c1-cb4b-2ea59de4cc2d"
      },
      "execution_count": 5,
      "outputs": [
        {
          "output_type": "stream",
          "name": "stdout",
          "text": [
            "teh\n",
            "boba\n",
            "kopi\n",
            "susu\n",
            "Elemen sudah habis\n"
          ]
        }
      ]
    },
    {
      "cell_type": "markdown",
      "source": [
        "Latihan 1\n",
        "\n",
        "Diberikan list_tagihan. Diminta untuk menghitung jumlah seluruh tagihan!\n",
        "\n",
        "list_tagihan = [50000, 75000, -150000, 125000, 300000, -50000, 200000]"
      ],
      "metadata": {
        "id": "MMhnPX4pfwVY"
      }
    },
    {
      "cell_type": "code",
      "source": [
        "# For Loop\n",
        "tagihan  = [50000, 75000, -150000, 125000, 300000, -50000, 200000]\n",
        "total_tagihan = 0\n",
        "\n",
        " # iterasi didalam list\n",
        "for i in tagihan:\n",
        "   total_tagihan = total_tagihan + i\n",
        "\n",
        "print(total_tagihan)"
      ],
      "metadata": {
        "colab": {
          "base_uri": "https://localhost:8080/"
        },
        "id": "__K8oZbzfyiQ",
        "outputId": "4e6bede0-6868-4bc2-d7dd-ea4ef66c488c"
      },
      "execution_count": 6,
      "outputs": [
        {
          "output_type": "stream",
          "name": "stdout",
          "text": [
            "550000\n"
          ]
        }
      ]
    },
    {
      "cell_type": "code",
      "source": [
        "# Program untuk menjumlahkan semua\n",
        "# bilangan asli hingga suku ke-n\n",
        "# jum = 1+2+3+...+n\n",
        "\n",
        "n = 10\n",
        "jumlah = 0\n",
        "i = 1\n",
        "\n",
        "while i <=n:\n",
        "  jumlah = jumlah + i\n",
        "  i = i + 1\n",
        "\n",
        "print(jumlah)"
      ],
      "metadata": {
        "colab": {
          "base_uri": "https://localhost:8080/"
        },
        "id": "_5Qd_4Hcf3Yz",
        "outputId": "efbc8c4a-f05b-4dad-cae5-12d2ada3fe4c"
      },
      "execution_count": 7,
      "outputs": [
        {
          "output_type": "stream",
          "name": "stdout",
          "text": [
            "55\n"
          ]
        }
      ]
    },
    {
      "cell_type": "markdown",
      "source": [
        "While loop with else"
      ],
      "metadata": {
        "id": "iTD3sRwSgdVL"
      }
    },
    {
      "cell_type": "code",
      "source": [
        "jum = 0\n",
        "i = 1\n",
        "while i <= n:\n",
        "  jum = jum + i\n",
        "  i = i + 1\n",
        "else:\n",
        "  print(jum)"
      ],
      "metadata": {
        "colab": {
          "base_uri": "https://localhost:8080/"
        },
        "id": "f6nympqKgksA",
        "outputId": "70eca49e-e960-427b-c99e-c08cbe4be76f"
      },
      "execution_count": 8,
      "outputs": [
        {
          "output_type": "stream",
          "name": "stdout",
          "text": [
            "55\n"
          ]
        }
      ]
    },
    {
      "cell_type": "markdown",
      "source": [
        "Latihan 2\n",
        "\n",
        "Diberikan list tagihan, hitunglah total_tagihan menggunakan while loop.\n",
        "\n",
        "tagihan = [50000, 75000, 125000, 300000, 200000]"
      ],
      "metadata": {
        "id": "RMcsdb6-gpSc"
      }
    },
    {
      "cell_type": "code",
      "source": [
        "# while loop\n",
        "\n",
        "tagihan = [50000, 75000, 125000, 300000, 200000]\n",
        "\n",
        "i = 0\n",
        "jumlah_tagihan = len(tagihan)\n",
        "total_tagihan  = 0\n",
        "\n",
        "while i < jumlah_tagihan:\n",
        "  total_tagihan = total_tagihan + tagihan[i]\n",
        "  i = i + 1\n",
        "\n",
        "print(total_tagihan)"
      ],
      "metadata": {
        "colab": {
          "base_uri": "https://localhost:8080/"
        },
        "id": "h7lvVN5WgvOh",
        "outputId": "cb7113a5-92d7-4f58-f9ec-054e304b6b1d"
      },
      "execution_count": 9,
      "outputs": [
        {
          "output_type": "stream",
          "name": "stdout",
          "text": [
            "750000\n"
          ]
        }
      ]
    },
    {
      "cell_type": "markdown",
      "source": [
        "Percabangan/Struktur Pemilihan"
      ],
      "metadata": {
        "id": "TJITsYgYg0HK"
      }
    },
    {
      "cell_type": "code",
      "source": [
        "# Jika angka adalah bilangan positif maka print \"adalah bilangan positif\"\n",
        "\n",
        "angka = 3\n",
        "if angka > 0:\n",
        "  print(angka,\"adalah bilangan positif.\")\n",
        "print(\"pernyataan ini selalu ditampilkan.\")\n",
        "\n",
        "angka = -1\n",
        "if angka > 0:\n",
        "  print(angka,\"adalah bilangan positif\")\n",
        "print(\"pernyataan ini selalu ditampilkan\")"
      ],
      "metadata": {
        "colab": {
          "base_uri": "https://localhost:8080/"
        },
        "id": "DVNgQchAgzhI",
        "outputId": "b9031496-1d39-4616-ab4a-d03e50e3db2f"
      },
      "execution_count": 10,
      "outputs": [
        {
          "output_type": "stream",
          "name": "stdout",
          "text": [
            "3 adalah bilangan positif.\n",
            "pernyataan ini selalu ditampilkan.\n",
            "pernyataan ini selalu ditampilkan\n"
          ]
        }
      ]
    },
    {
      "cell_type": "markdown",
      "source": [
        "Example: Python IF ELSE Statemen"
      ],
      "metadata": {
        "id": "v6WSx0gqhAsJ"
      }
    },
    {
      "cell_type": "code",
      "source": [
        "# Program disusun untuk mengecek apakah program tersebut kurang dari 0 atau tidak\n",
        "# dan menampilkan tulisan yang sesuai\n",
        "\n",
        "angka = 3\n",
        "\n",
        "if angka >= 0:\n",
        "  print(\"Bilangan lebih dari atau sama dengan 0\")\n",
        "else:\n",
        "  print(\"Bilangan kurang dari 0\")"
      ],
      "metadata": {
        "colab": {
          "base_uri": "https://localhost:8080/"
        },
        "id": "q3RfnQfKhFkl",
        "outputId": "323b7649-ac35-4b7e-f1a4-48eb0c95f5d7"
      },
      "execution_count": 11,
      "outputs": [
        {
          "output_type": "stream",
          "name": "stdout",
          "text": [
            "Bilangan lebih dari atau sama dengan 0\n"
          ]
        }
      ]
    },
    {
      "cell_type": "code",
      "source": [
        "# Program disusun untuk mengecek apakah dua buah angka sama atau tidak\n",
        " # dan menampilkan tulisan yang sesuai\n",
        "\n",
        "a = 5\n",
        "b = 5\n",
        "\n",
        "if a==b:\n",
        "  print(\"a dan b bernilai sama\")\n",
        "else:\n",
        "  print(\"a dan b bernilai berbeda\")\n",
        "  print(\"Belajar If Else\")"
      ],
      "metadata": {
        "colab": {
          "base_uri": "https://localhost:8080/"
        },
        "id": "Kg_fjksPhKYZ",
        "outputId": "23bd3e05-09c8-4b7c-8270-561e029b1480"
      },
      "execution_count": 12,
      "outputs": [
        {
          "output_type": "stream",
          "name": "stdout",
          "text": [
            "a dan b bernilai sama\n"
          ]
        }
      ]
    },
    {
      "cell_type": "code",
      "source": [
        "# Program disusun untuk mengecek apakah perbandingan dua buah angka\n",
        "# dan menampilkan tulisan yang sesuai\n",
        "\n",
        "# membaca dua angka\n",
        "bil1 = int(input(\"Masukkan bilangan pertama:\"))\n",
        "bil2 = int(input(\"Masukkan bilangan kedua:\"))\n",
        "\n",
        "# memilih bilangan yang lebih besar\n",
        "if bil1 > bil2:\n",
        "  bil_lebih_besar = bil1\n",
        "else:\n",
        "  bil_lebih_besar = bil2\n",
        "\n",
        "# menampilkan hasil\n",
        "print(\"Bilangan yang lebih besar adalah:\",bil_lebih_besar)"
      ],
      "metadata": {
        "colab": {
          "base_uri": "https://localhost:8080/"
        },
        "id": "o0vEdl3yhPkf",
        "outputId": "36564a3a-d37b-49e1-8178-a608b63cb37f"
      },
      "execution_count": 13,
      "outputs": [
        {
          "output_type": "stream",
          "name": "stdout",
          "text": [
            "Masukkan bilangan pertama:3\n",
            "Masukkan bilangan kedua:5\n",
            "Bilangan yang lebih besar adalah: 5\n"
          ]
        }
      ]
    },
    {
      "cell_type": "markdown",
      "source": [
        "Example: Python IF ELIF ELSE Statement"
      ],
      "metadata": {
        "id": "ObZ8HmnLhdOT"
      }
    },
    {
      "cell_type": "code",
      "source": [
        "# Program disusun untuk mengecek apakah angka merupakan bilangan positif, negatif atau nol\n",
        "# dan menampilkan tulisan yang sesuai\n",
        "\n",
        "angka = 3.4\n",
        "\n",
        "if angka > 0:\n",
        "  print(\"Bilangan Positif\")\n",
        "elif num == 0:\n",
        "  print(\"Nol\")\n",
        "else:\n",
        "  print(\"Bilangan Negatif\")"
      ],
      "metadata": {
        "colab": {
          "base_uri": "https://localhost:8080/"
        },
        "id": "W0MNmP2ahxds",
        "outputId": "f511cc8e-f1cb-4655-ca2b-be789cc5bb7e"
      },
      "execution_count": 14,
      "outputs": [
        {
          "output_type": "stream",
          "name": "stdout",
          "text": [
            "Bilangan Positif\n"
          ]
        }
      ]
    },
    {
      "cell_type": "code",
      "source": [
        "# Statement if\n",
        "x = 4\n",
        "if x % 2 == 0:    #jika x dibagi 2 sisanya samadengan 0\n",
        "  print(\"x habis dibagi dua\")\n",
        "\n",
        "# Statement if...elif...else\n",
        "x = 7\n",
        "if x % 2 == 0: #jika x dibagi 2 sisanya samadengan 0\n",
        "  print(\"x habis dibagi dua\")\n",
        "elif x % 3 == 0: #jika x dibagi 3 sisanya samadengan 0\n",
        "  print(\"x habis dibagi tiga\")\n",
        "elif x % 5 == 0: #jika x dibagi 5 sisanya samadengan 0\n",
        "  print(\"x habis dibagi lima\")\n",
        "else:\n",
        "  print(\"x tidak habis dibagi dua, tiga ataupun lima\")"
      ],
      "metadata": {
        "colab": {
          "base_uri": "https://localhost:8080/"
        },
        "id": "_n0vIVybh2Yd",
        "outputId": "02f14fce-42f7-4092-ccc6-a8f0b232f00a"
      },
      "execution_count": 15,
      "outputs": [
        {
          "output_type": "stream",
          "name": "stdout",
          "text": [
            "x habis dibagi dua\n",
            "x tidak habis dibagi dua, tiga ataupun lima\n"
          ]
        }
      ]
    },
    {
      "cell_type": "code",
      "source": [
        "# Program disusun untuk mengecek apakah angka merupakan bilangn positif, negatif atau nol\n",
        "# dan menampilkan tulisan yang sesuai\n",
        "\n",
        "angka = float(input(\"Masukkan angka:\"))\n",
        "if angka >= 0:\n",
        "  if angka == 0:\n",
        "    print(\"Nol\")\n",
        "  else:\n",
        "    print(\"Bilangan Positif\")\n",
        "else:\n",
        "  print(\"Bilangan Negatif\")"
      ],
      "metadata": {
        "colab": {
          "base_uri": "https://localhost:8080/"
        },
        "id": "2FMMt0I9h_ks",
        "outputId": "5051a696-e147-47b9-b9b8-65bc3e9ed444"
      },
      "execution_count": 17,
      "outputs": [
        {
          "output_type": "stream",
          "name": "stdout",
          "text": [
            "Masukkan angka:4\n",
            "Bilangan Positif\n"
          ]
        }
      ]
    },
    {
      "cell_type": "markdown",
      "source": [
        "Latihan\n",
        "\n",
        "Buatlah sebuah fungsi \"Mahal_Diskon\" dengan ketentuan:\n",
        "\n",
        "Input berupa harga produk dengan tipe data numerik tunggal\n",
        "Kategori input adalah \"Murah\" dan \"Mahal\", kemudian diskon ada 3 kategori \"10%\",\"20%\",dan \"40%\"\n",
        "Output pertama sebuah teks/string yang menyatakan \"Mahal\" atau \"Murah\"dan keterangan \"Kamu dapat DIskon...\"\n",
        "Output keduua adalah harga yang perlu dibayarkan"
      ],
      "metadata": {
        "id": "jUNcc3UliL1-"
      }
    },
    {
      "cell_type": "code",
      "source": [
        "Harga = float(input(\"harga:\"))\n",
        "\n",
        "if Harga <= 100000:\n",
        "  print(\"Murah\")\n",
        "else:\n",
        "  print(\"Mahal\")\n",
        "\n",
        "print(\"kamu mendapat diskon:\")"
      ],
      "metadata": {
        "colab": {
          "base_uri": "https://localhost:8080/"
        },
        "id": "Rafv_h6QiQgS",
        "outputId": "6fbf3dba-8077-4d64-e2e2-cde0c9ad2910"
      },
      "execution_count": 18,
      "outputs": [
        {
          "output_type": "stream",
          "name": "stdout",
          "text": [
            "harga:50000\n",
            "Murah\n",
            "kamu mendapat diskon:\n"
          ]
        }
      ]
    },
    {
      "cell_type": "code",
      "source": [
        "harga = float(input(\"harga:\"))\n",
        "\n",
        "if harga < 500000:\n",
        "  print(\"Kamu mendapat diskon 10%\")\n",
        "  print(\"Kamu hanya perlu membayar:\",harga*10/100)\n",
        "elif harga < 800000:\n",
        "  print(\"Kamu mendapat diskon 20%\")\n",
        "  print(\"Kamu hanya perlu membayar:\",harga*20/100)\n",
        "elif harga > 800000:\n",
        "  print(\"Kamu mendapat diskon 30%\")\n",
        "  print(\"Kamu hanya perlu membayar:\",harga*30/100)\n",
        "else:\n",
        "  print(\"Kamu tidak mendapat diskon\")"
      ],
      "metadata": {
        "colab": {
          "base_uri": "https://localhost:8080/"
        },
        "id": "XZgUDDEPii0J",
        "outputId": "6bfc95ce-6be3-4310-bba4-79d75db58d1e"
      },
      "execution_count": 19,
      "outputs": [
        {
          "output_type": "stream",
          "name": "stdout",
          "text": [
            "harga:150000\n",
            "Kamu mendapat diskon 10%\n",
            "Kamu hanya perlu membayar: 15000.0\n"
          ]
        }
      ]
    }
  ]
}